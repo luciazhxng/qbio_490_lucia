{
 "cells": [
  {
   "cell_type": "markdown",
   "id": "8dadabc7",
   "metadata": {},
   "source": [
    "# A Beginner's Guide to Programming in Python\n",
    "\n",
    "Welcome to python, the second language of QBIO490! This document will take you through the basics of python before we jump right into our analyses. Let's get started!"
   ]
  },
  {
   "cell_type": "markdown",
   "id": "6eadb16f",
   "metadata": {},
   "source": [
    "## Jupyter Notebook"
   ]
  },
  {
   "cell_type": "markdown",
   "id": "4a942488",
   "metadata": {},
   "source": [
    "This is Jupyter Notebook! It is a 'notebook' style integrated development environment (IDE) for Python scripts. There are comment blocks (like this)"
   ]
  },
  {
   "cell_type": "code",
   "execution_count": 1,
   "id": "3b1c0d9f",
   "metadata": {},
   "outputs": [
    {
     "name": "stdout",
     "output_type": "stream",
     "text": [
      "This is a code block!\n"
     ]
    }
   ],
   "source": [
    "# And there are code blocks (like this)\n",
    "print('This is a code block!')"
   ]
  },
  {
   "cell_type": "markdown",
   "id": "55b1b291",
   "metadata": {},
   "source": [
    "Run code blocks by pressing the 'run this cell' arrow button to the right of the codeblock execution counter (this is the 'In [ ]') on the top left of each cell. Everytime you run a cell, the execution counter will increase for all programs by 1. This lets you easily see the order that cells were executed in. <br />    \n",
    "You can also run the current cell selected by pressing the run button at the top or pressing shift and enter.<br/>\n",
    "<br/>\n",
    "You can change the type of block in the top menu by switching between <u>Markdown</u> and <u>Code</u> <br/>\n",
    "<br/>"
   ]
  },
  {
   "cell_type": "markdown",
   "id": "09ff7c08",
   "metadata": {},
   "source": [
    "### This is currently a markdown cell. Change it to code and run the code\n",
    "print(\"I won't run unless I'm in a code block\")"
   ]
  },
  {
   "cell_type": "markdown",
   "id": "6014ab10",
   "metadata": {},
   "source": [
    "You can create a new code block, or <u>cell</u>, underneath the currently selected one with the plus icon at the top. You can move cells up and down with the arrows next to run. Delete a cell by selecting the entire cell and then pressing X."
   ]
  },
  {
   "cell_type": "markdown",
   "id": "ae98c1e6",
   "metadata": {},
   "source": [
    "## Python"
   ]
  },
  {
   "cell_type": "markdown",
   "id": "0100eef7",
   "metadata": {},
   "source": [
    "Python as a language has a lot of similarities to R with regards to syntax and execution, but some differences as well. Let's explore the basic syntax of python."
   ]
  },
  {
   "cell_type": "markdown",
   "id": "ecad6fa1",
   "metadata": {},
   "source": [
    "## Setting up your working directory\n",
    "\n",
    "Just like in R, if you want to use relative file paths, you need to know where you are in terms of your directory. Run the following code to set your working directory to the analysis_data folder."
   ]
  },
  {
   "cell_type": "code",
   "execution_count": 2,
   "id": "b36292a3",
   "metadata": {},
   "outputs": [
    {
     "name": "stdout",
     "output_type": "stream",
     "text": [
      "Current working directory: C:\\Users\\zhang\\onedrive\\college\\qbio490\\qbio_490_lucia\\week10_python\n",
      "New working directory: C:\\Users\\zhang\\OneDrive\\college\\qbio490\\qbio_490_lucia\\analysis_data\n"
     ]
    }
   ],
   "source": [
    "import os\n",
    "\n",
    "print(\"Current working directory: {0}\".format(os.getcwd()))\n",
    "\n",
    "os.chdir('C:/Users/zhang/OneDrive/college/qbio490/qbio_490_lucia/analysis_data')\n",
    "\n",
    "print(\"New working directory: {0}\".format(os.getcwd()))"
   ]
  },
  {
   "cell_type": "markdown",
   "id": "0d89296e",
   "metadata": {},
   "source": [
    "## (1) Indentation\n",
    "\n",
    "In the other programming languages you've used before, such as R, you have defined code blocks using curly braces. Python is completely different, in that it uses indentation to demark a new code block. You'll see this in the looping, control flow, and function parts of the guide. "
   ]
  },
  {
   "cell_type": "markdown",
   "id": "44e2256f",
   "metadata": {},
   "source": [
    "## (2) Indexing\n",
    "\n",
    "Python uses zero-based indexing, which means that the first element in a data-structure has the index of 0, and the second element has an index of 1, and so on. So to access the first thing in a list called fruits, you would do: `fruits[0]`."
   ]
  },
  {
   "cell_type": "markdown",
   "id": "a532be0c",
   "metadata": {},
   "source": [
    "## (3) Variables\n",
    "\n",
    "In Python, like in R, variables are not typed; meaning you don't declare a variable as a specific type. To assign to variables in Python, you use the equals sign."
   ]
  },
  {
   "cell_type": "code",
   "execution_count": 3,
   "id": "51cf28e6",
   "metadata": {},
   "outputs": [],
   "source": [
    "my_int = 4\n",
    "my_float = 4.3\n",
    "my_bool = True\n",
    "my_char = '4'\n",
    "my_string = \"hello\"\n",
    "# Notice when using quotes it doesn't matter whether you use single or double quotes"
   ]
  },
  {
   "cell_type": "markdown",
   "id": "5e15d361",
   "metadata": {},
   "source": [
    "### Accessing and Modifying Variables\n",
    "\n",
    "There are two ways to modify variables. For example, to add 2 to some variable x, we can either do the traditional way: `x = x + 2`, or with a special operator `x += 2`. There are equivalent operators for subtraction (-=), multiplication (*=), division (/=), etc. <br/>\n",
    "\n",
    "<br/>**Exercise 3.1**\n",
    "\n",
    "Below, write the short version for the following variable assignments."
   ]
  },
  {
   "cell_type": "code",
   "execution_count": 4,
   "id": "25741474",
   "metadata": {},
   "outputs": [
    {
     "name": "stdout",
     "output_type": "stream",
     "text": [
      "4 0.5\n"
     ]
    }
   ],
   "source": [
    "x = 4\n",
    "y = 2\n",
    "\n",
    "#1. y = y / x (example is filled in below)\n",
    "y /= x\n",
    "\n",
    "# 2. y = y * 3\n",
    "\n",
    "# 3. x = x - y\n",
    "\n",
    "print(x,y)"
   ]
  },
  {
   "cell_type": "markdown",
   "id": "84743e49",
   "metadata": {},
   "source": [
    "## (4) Printing\n",
    "\n",
    "Printing is pretty straightforward in Python. To print, you use the print() function, where you put what you want to print in the parentheses. E.g. `print(\"This is the word: \", word)`"
   ]
  },
  {
   "cell_type": "markdown",
   "id": "09b94548",
   "metadata": {},
   "source": [
    "### Special Print Formatting\n",
    "\n",
    "Sometimes, printing strings and variables together can get clunky and hard to read. If you put f in front of the string (i.e. single/double quotes) and put variables in curly braces, it automatically substitutes that variable in the string!"
   ]
  },
  {
   "cell_type": "code",
   "execution_count": 5,
   "id": "e5d94385",
   "metadata": {},
   "outputs": [
    {
     "name": "stdout",
     "output_type": "stream",
     "text": [
      "My first variable is red, my second variable is blue.\n"
     ]
    }
   ],
   "source": [
    "my_var1 = 'red'\n",
    "my_var2 = 'blue'\n",
    "\n",
    "print(f'My first variable is {my_var1}, my second variable is {my_var2}.')"
   ]
  },
  {
   "cell_type": "markdown",
   "id": "d587c745",
   "metadata": {},
   "source": [
    "## (5) Functions\n",
    "Functions are user-defined bits of code that can be called with arguments to run a specific line of code or return a value. You can declare a function with `def`."
   ]
  },
  {
   "cell_type": "code",
   "execution_count": 6,
   "id": "a42dcf3a",
   "metadata": {},
   "outputs": [
    {
     "name": "stdout",
     "output_type": "stream",
     "text": [
      "I am a function!\n"
     ]
    }
   ],
   "source": [
    "def my_function():\n",
    "    print('I am a function!')\n",
    "\n",
    "my_function()"
   ]
  },
  {
   "cell_type": "markdown",
   "id": "51e06030",
   "metadata": {},
   "source": [
    "You can implement parameters by adding local variables (variables that only exist within the scope of the function) and then give a return value with `return`."
   ]
  },
  {
   "cell_type": "code",
   "execution_count": 7,
   "id": "f95be578",
   "metadata": {},
   "outputs": [
    {
     "name": "stdout",
     "output_type": "stream",
     "text": [
      "64\n"
     ]
    }
   ],
   "source": [
    "def square_function(my_input):\n",
    "    my_output = my_input**2 # **2 is equivalent to raising it to the second power\n",
    "    return my_output\n",
    "\n",
    "print(square_function(8))"
   ]
  },
  {
   "cell_type": "markdown",
   "id": "f3d0cbf5",
   "metadata": {},
   "source": [
    "**Exercise 5.1**\n",
    "\n",
    "Write a function, `print_args(a, b)` that prints two variables, a and b, using the string formatting trick and then call it on two variables. For example, `print_args(\"red\", \"blue\")` will print \"a is red, b is blue\"."
   ]
  },
  {
   "cell_type": "code",
   "execution_count": 8,
   "id": "b0798754",
   "metadata": {},
   "outputs": [
    {
     "name": "stdout",
     "output_type": "stream",
     "text": [
      "a is red, b is blue\n"
     ]
    }
   ],
   "source": [
    "def print_args(a,b):\n",
    "    print(f'a is {a}, b is {b}')\n",
    "\n",
    "print_args(\"red\", \"blue\")"
   ]
  },
  {
   "cell_type": "markdown",
   "id": "6c331c53",
   "metadata": {},
   "source": [
    "## (6) Objects\n",
    "In Python, everything is an object, including packages and functions. Very abstractly, an object is a specially-defined data type, and it has the following two attributes (i.e. it stores the following information):\n",
    "\n",
    "+ Data attributes: these store variables.\n",
    "+ Methods: these are functions.\n",
    "\n",
    "To access data attributes, use object_name.attribute (note the lack of parentheses). To call a function from an object, use object_name.function() (note that these have parentheses).\n",
    "\n",
    "We'll use this notation in the next section when we introduce lists (which are a great example of objects)."
   ]
  },
  {
   "cell_type": "markdown",
   "id": "a4f014ae",
   "metadata": {},
   "source": [
    "## (7) Data Structure: Lists\n",
    "Lists are the standard array data structure in Python (being ordered and changeable). Lists will be the main in-built data structure we use in python. You declare a list using square brackets: `my_list = [1, 2, 3]`. "
   ]
  },
  {
   "cell_type": "code",
   "execution_count": 9,
   "id": "1cf2423d",
   "metadata": {},
   "outputs": [
    {
     "name": "stdout",
     "output_type": "stream",
     "text": [
      "[8, 'three', 7]\n"
     ]
    }
   ],
   "source": [
    "# Lists can be defined over multiple lines as well.\n",
    "my_list = [8,\n",
    "          'three',\n",
    "          7]\n",
    "\n",
    "print (my_list)"
   ]
  },
  {
   "cell_type": "markdown",
   "id": "c170011b",
   "metadata": {},
   "source": [
    "**Exercise 7.1**\n",
    "\n",
    "Declare a list called `example_list` that contains your age, name, and a boolean value for if you are a first-year student.\n",
    "\n",
    "Print the following: \"Here is some info about me: \\<`example_list` goes here\\>\""
   ]
  },
  {
   "cell_type": "code",
   "execution_count": 16,
   "id": "9fa9924b",
   "metadata": {},
   "outputs": [],
   "source": [
    "example_list = [18, \"lucia\", True]\n"
   ]
  },
  {
   "cell_type": "markdown",
   "id": "c18cd02e",
   "metadata": {},
   "source": [
    "### Accessing Values in a List\n",
    "\n",
    "Just like in R, we can use bracket notation [] to access value(s) within a list."
   ]
  },
  {
   "cell_type": "code",
   "execution_count": 17,
   "id": "f28cf104",
   "metadata": {},
   "outputs": [],
   "source": [
    "greetings_list = [\"hola\", \"bonjour\", \"hallo\", \"ciao\", \"你好\", \"olá\", \"أهلا\", \"こんにちは\", \"안녕하세요\", \"привет\"]"
   ]
  },
  {
   "cell_type": "code",
   "execution_count": 18,
   "id": "9e120466",
   "metadata": {
    "scrolled": true
   },
   "outputs": [
    {
     "name": "stdout",
     "output_type": "stream",
     "text": [
      "olá\n"
     ]
    }
   ],
   "source": [
    "print(greetings_list[5]) # outputs the value at index 5 (the 6th value in the list)"
   ]
  },
  {
   "cell_type": "markdown",
   "id": "24ac18d7",
   "metadata": {},
   "source": [
    "To access a set of values, we can use a colon (:) and specify the first and last+1 indices of that set. Note that the range is inclusive of the first index, but not of the second (which is why we must specify the last+1 index as our second input). This is called splicing."
   ]
  },
  {
   "cell_type": "code",
   "execution_count": 19,
   "id": "05bc505c",
   "metadata": {},
   "outputs": [
    {
     "name": "stdout",
     "output_type": "stream",
     "text": [
      "['ciao', '你好', 'olá', 'أهلا', 'こんにちは', '안녕하세요', 'привет']\n"
     ]
    }
   ],
   "source": [
    "print(greetings_list[3:10]) # outputs the values from index 3 to index 9 (the 4th through 10th values)"
   ]
  },
  {
   "cell_type": "markdown",
   "id": "0b47c146",
   "metadata": {},
   "source": [
    "If you don't specify an index when using the colon and bracket notation, Python will default to the beginning/end, depending on which index you omit (and if you omit both, it will give the entire array)."
   ]
  },
  {
   "cell_type": "code",
   "execution_count": 20,
   "id": "9c21b846",
   "metadata": {},
   "outputs": [
    {
     "name": "stdout",
     "output_type": "stream",
     "text": [
      "['hola', 'bonjour', 'hallo', 'ciao', '你好']\n",
      "['olá', 'أهلا', 'こんにちは', '안녕하세요', 'привет']\n",
      "['hola', 'bonjour', 'hallo', 'ciao', '你好', 'olá', 'أهلا', 'こんにちは', '안녕하세요', 'привет']\n",
      "['привет']\n"
     ]
    }
   ],
   "source": [
    "print(greetings_list[:5]) # outputs all values up to index 5 (the 1st through 6th values)\n",
    "\n",
    "print(greetings_list[5:]) # outputs all values starting at index 5 (the 6th through nth values)\n",
    "\n",
    "print(greetings_list[:]) # outputs all values in the list\n",
    "\n",
    "print(greetings_list[-1:]) # using a negative number results in starting from the end"
   ]
  },
  {
   "cell_type": "code",
   "execution_count": 21,
   "id": "71ea0888",
   "metadata": {},
   "outputs": [],
   "source": [
    "test = [1, 2, 3, 4, 5, 6]"
   ]
  },
  {
   "cell_type": "markdown",
   "id": "85d7f52c",
   "metadata": {},
   "source": [
    "**Exercise 7.2** Access the following from `test`:\n",
    "\n",
    "1. 5th value only (5)\n",
    "2. First through 4th values (1, 2, 3, 4)\n",
    "3. Last two values (5, 6)\n",
    "4. Create a new list called `list2` which contains the last three values of `test`."
   ]
  },
  {
   "cell_type": "code",
   "execution_count": 26,
   "id": "8bdf8313",
   "metadata": {},
   "outputs": [
    {
     "name": "stdout",
     "output_type": "stream",
     "text": [
      "5\n",
      "[1, 2, 3, 4]\n",
      "[5, 6]\n",
      "[4, 5, 6]\n"
     ]
    }
   ],
   "source": [
    "print(test[4])\n",
    "print(test[0:4])\n",
    "print(test[-2:])\n",
    "list2 = (test[-3:])\n",
    "print(list2)"
   ]
  },
  {
   "cell_type": "markdown",
   "id": "96cde59c",
   "metadata": {},
   "source": [
    "There are many more ways to splice a list, but we won't go into them here. Feel free to look up python list splicing to explore more on your own time!"
   ]
  },
  {
   "cell_type": "markdown",
   "id": "818cf12e",
   "metadata": {},
   "source": [
    "### List Functions\n",
    "There are many functions we can use on lists, here are just a few particularly helpful ones:\n",
    "\n",
    "`len()`: This function gives us the length of the list. Note that this is not a method, `object.method()`, it is just a regular function, `function(args)`.\n",
    "\n",
    "`.append()`: This method allows you to add an element to the back of the list.\n",
    "\n",
    "`.count()`: This method returns the number of elements with the specified value within your list.\n",
    "\n",
    "`.index()`: This method returns the index of the first element with the specified value within your list.\n",
    "\n",
    "`.sort()`: This method sorts your list."
   ]
  },
  {
   "cell_type": "code",
   "execution_count": 27,
   "id": "260757a2",
   "metadata": {},
   "outputs": [],
   "source": [
    "test = [21, 1, 1, 2, 3, 5, 8]"
   ]
  },
  {
   "cell_type": "markdown",
   "id": "73222609",
   "metadata": {},
   "source": [
    "**Exercise 7.3**\n",
    "\n",
    "Do to following things to `test`.\n",
    "\n",
    "1. Count the number of times the value \"1\" appears within our list.\n",
    "2. Print the index of \"8\".\n",
    "3. Append \"13\" to the back of our list.\n",
    "4. Print the length of our list.\n",
    "5. Sort the list.\n",
    "6. Print the newly sorted list."
   ]
  },
  {
   "cell_type": "code",
   "execution_count": 30,
   "id": "22992ef9",
   "metadata": {},
   "outputs": [
    {
     "name": "stdout",
     "output_type": "stream",
     "text": [
      "6\n",
      "9\n",
      "[1, 1, 2, 3, 5, 8, 13, 13, 21]\n"
     ]
    }
   ],
   "source": [
    "test.count(1)\n",
    "print(test.index(8))\n",
    "test.append(13)\n",
    "print(len(test))\n",
    "test.sort()\n",
    "print(test)"
   ]
  },
  {
   "cell_type": "markdown",
   "id": "5ead9aca",
   "metadata": {},
   "source": [
    "### Side Note on Other Data Structures\n",
    "There are a few other data structures in Python that we generally will not use but it's still worth\n",
    "going over them.\n"
   ]
  },
  {
   "cell_type": "markdown",
   "id": "affa37a4",
   "metadata": {},
   "source": [
    "<u>Tuples</u> are like lists except they are immutable (they can't be changed once defined). They are more memory efficient and can be computationally advantageous but otherwise work the exact same. They are defined with parentheses instead of square brackets."
   ]
  },
  {
   "cell_type": "code",
   "execution_count": 31,
   "id": "8ae1dfd4",
   "metadata": {},
   "outputs": [
    {
     "name": "stdout",
     "output_type": "stream",
     "text": [
      "(1, 'test')\n",
      "<class 'tuple'>\n"
     ]
    }
   ],
   "source": [
    "my_tuple = (1, 'test')\n",
    "print(my_tuple)\n",
    "print(type(my_tuple))"
   ]
  },
  {
   "cell_type": "markdown",
   "id": "5f11b1cf",
   "metadata": {},
   "source": [
    "<u>Sets</u> are immutable and unordered. Duplicate values are not allowed. They are defined with curly braces."
   ]
  },
  {
   "cell_type": "code",
   "execution_count": 32,
   "id": "13bd4fbe",
   "metadata": {},
   "outputs": [
    {
     "name": "stdout",
     "output_type": "stream",
     "text": [
      "{False, 1, 'test', 3}\n"
     ]
    }
   ],
   "source": [
    "my_set = {1, 3, 3, 'test', False}\n",
    "print(my_set)"
   ]
  },
  {
   "cell_type": "markdown",
   "id": "82af2645",
   "metadata": {},
   "source": [
    "Notice how the order is not the same as originally defined.\n",
    "<br></br>\n",
    "<u>Dicts</u> are a very unique data structure. If you are familiar with hashmaps in other languages, they work pretty much the same. In a dict, each element consists of a value and a key. They are defined with curly braces and colons."
   ]
  },
  {
   "cell_type": "code",
   "execution_count": 33,
   "id": "f4c7db14",
   "metadata": {},
   "outputs": [
    {
     "name": "stdout",
     "output_type": "stream",
     "text": [
      "Hi my name is SpongeBob. I am a Spongiforma squarepantsii.\n",
      "My hobbies include ['Jellyfishing', 'Frycooking', 'Blowing bubbles']\n",
      "I have square pants!\n"
     ]
    }
   ],
   "source": [
    "my_dict = {\n",
    "    'name' : 'SpongeBob',\n",
    "    'species' : 'Spongiforma squarepantsii',\n",
    "    'hobbies' : ['Jellyfishing', 'Frycooking', 'Blowing bubbles'],\n",
    "    'square pants' : True\n",
    "}\n",
    "\n",
    "print(f'Hi my name is {my_dict[\"name\"]}. I am a {my_dict[\"species\"]}.')\n",
    "print(f'My hobbies include {my_dict[\"hobbies\"]}')\n",
    "if my_dict['square pants']:\n",
    "    print('I have square pants!')\n",
    "else:\n",
    "    print('My pants are not square :(')"
   ]
  },
  {
   "cell_type": "markdown",
   "id": "a82297f8",
   "metadata": {},
   "source": [
    "As you can see, each key, value pair in a dictionary can be any type of variable. Dictionaries are very powerful data structures and we will encounter them within Pandas dataframes but for this course you will generally not need to know how to use them."
   ]
  },
  {
   "cell_type": "markdown",
   "id": "7824b2d1",
   "metadata": {},
   "source": [
    "## (8) Control Flow\n",
    "### If, Elif, Else\n",
    "\n",
    "Python uses if statements like R, with three main differences.\n",
    "\n",
    "Instead of curly brackets, you have colons and indents.\n",
    "You don't put the `if` statement in parentheses.\n",
    "Instead of `else if`, you have the abbreviated `elif`."
   ]
  },
  {
   "cell_type": "code",
   "execution_count": 34,
   "id": "787186cd",
   "metadata": {},
   "outputs": [
    {
     "name": "stdout",
     "output_type": "stream",
     "text": [
      "x is negative!\n"
     ]
    }
   ],
   "source": [
    "x = -10\n",
    "\n",
    "if x > 0:\n",
    "    print('x is positive!')\n",
    "elif x == 0:\n",
    "    print('x is 0!')\n",
    "else:\n",
    "    print('x is negative!')"
   ]
  },
  {
   "cell_type": "markdown",
   "id": "d5842274",
   "metadata": {},
   "source": [
    "Because there are no brackets like R, Python relies on the indentations to decide what goes in and out of an `if/elif/else` statement. If there are problems with indentations, or if your indentations are not the same number of spaces (let's say, 3 spaces vs. 4 spaces), the statements will not execute. \n",
    "<br></br>\n",
    "\n",
    "### For loops\n",
    "\n",
    "Also like R, there are `for` and `while` loops. Like R, all for loops in Python are \"for-each\" loops, meaning you have to go through a list. For example, the following chunk of code prints each element in `a_new_list` on a separate line. Like the `if` statements, you do not use parentheses around the for condition:"
   ]
  },
  {
   "cell_type": "code",
   "execution_count": 35,
   "id": "1122d531",
   "metadata": {},
   "outputs": [
    {
     "name": "stdout",
     "output_type": "stream",
     "text": [
      "1\n",
      "fish\n",
      "2\n",
      "fish\n"
     ]
    }
   ],
   "source": [
    "a_new_list = [1, 'fish', 2, 'fish']\n",
    "for x in a_new_list:\n",
    "    print(x) "
   ]
  },
  {
   "cell_type": "markdown",
   "id": "1d718ab6",
   "metadata": {},
   "source": [
    "If you know the certain amount of times you want to repeat something, use the `range()` function like so."
   ]
  },
  {
   "cell_type": "code",
   "execution_count": 36,
   "id": "8385568f",
   "metadata": {},
   "outputs": [
    {
     "name": "stdout",
     "output_type": "stream",
     "text": [
      "looping: 0\n",
      "looping: 1\n",
      "looping: 2\n",
      "looping: 3\n",
      "looping: 4\n",
      "looping: 5\n",
      "looping: 6\n",
      "looping: 7\n",
      "looping: 8\n",
      "looping: 9\n"
     ]
    }
   ],
   "source": [
    "# this loop will print 10 times\n",
    "for i in range(10):\n",
    "    print(f\"looping: {i}\")"
   ]
  },
  {
   "cell_type": "markdown",
   "id": "dcd5517c",
   "metadata": {},
   "source": [
    "Remember, Python indexes at 0 instead of 1 like R. You'll see it prints 0-9 instead of 1-10. Many other languages like C++ follow this zero-based indexing. \n",
    "<br></br>\n",
    "**Exercise 8.1**\n",
    "\n",
    "Fill in the ellipses to calculate the mean of the elements in `nums`."
   ]
  },
  {
   "cell_type": "code",
   "execution_count": 39,
   "id": "387eedba",
   "metadata": {},
   "outputs": [
    {
     "name": "stdout",
     "output_type": "stream",
     "text": [
      "The mean is 3.5!\n"
     ]
    }
   ],
   "source": [
    "nums = [1,2,3,4,5,6]\n",
    "total = 0\n",
    "\n",
    "for i in nums:\n",
    "    total += i\n",
    "\n",
    "mean_value = total / len(nums) # DO NOT fill in 6 (use a function instead)\n",
    "\n",
    "print(f'The mean is {mean_value}!')"
   ]
  },
  {
   "cell_type": "markdown",
   "id": "7b599dc0",
   "metadata": {},
   "source": [
    "**Exercise 8.2**\n",
    "\n",
    "Add every element from `a_new_list` onto the end of `num_list` using a `for` loop using `append()` and the `range()` function. Hint: for this to work, you'll have to get the length of `a_new_list`."
   ]
  },
  {
   "cell_type": "code",
   "execution_count": 40,
   "id": "725a6284",
   "metadata": {},
   "outputs": [],
   "source": [
    "a_new_list = [1, 'fish', 2, 'fish']\n",
    "num_list = [0,1,2,3,4,5,6]\n",
    "\n",
    "# write code here"
   ]
  },
  {
   "cell_type": "markdown",
   "id": "3d306480",
   "metadata": {},
   "source": [
    "**Exercise 8.3** \n",
    "\n",
    "Given the following list of strings `string_list`, copy all strings that start with the letter \"A\" into `starts_A_list` using `append()`. Hint: you can get the first letter of a string just by treating it as a list of characters."
   ]
  },
  {
   "cell_type": "code",
   "execution_count": 41,
   "id": "c2627722",
   "metadata": {},
   "outputs": [
    {
     "name": "stdout",
     "output_type": "stream",
     "text": [
      "T\n"
     ]
    }
   ],
   "source": [
    "# example of string indexing\n",
    "my_string = \"Tree\"\n",
    "print(my_string[0])"
   ]
  },
  {
   "cell_type": "code",
   "execution_count": 43,
   "id": "8490c49f",
   "metadata": {},
   "outputs": [
    {
     "data": {
      "text/plain": [
       "['Apple', 'Alligator', 'Anteater', 'Aardvark']"
      ]
     },
     "execution_count": 43,
     "metadata": {},
     "output_type": "execute_result"
    }
   ],
   "source": [
    "string_list = [\"Apple\", \"Banana\", \"Alligator\", \"Anteater\", \"Potato\", \"Water\", \"Aardvark\"]\n",
    "starts_A_list = []\n",
    "\n",
    "for string in string_list:\n",
    "    if string[0] == \"A\":\n",
    "        starts_A_list.append(string)\n",
    "starts_A_list\n",
    "\n",
    "# write code here"
   ]
  },
  {
   "cell_type": "markdown",
   "id": "c8194d92",
   "metadata": {},
   "source": [
    "### While loops\n",
    "\n",
    "While loops in Python are the same as in R, except again without curly brackets and with colons instead. Again, like if/elif/else statements and for loops, Python relies on indents to figure out what's in the loop and what isn't. "
   ]
  },
  {
   "cell_type": "code",
   "execution_count": null,
   "id": "b80ca158",
   "metadata": {},
   "outputs": [],
   "source": [
    "i = 1\n",
    "while i < 64:\n",
    "    i *= 2  # note: this is equivalent to writing i = i * 2\n",
    "    print(i)"
   ]
  },
  {
   "cell_type": "markdown",
   "id": "fa5fc0f0",
   "metadata": {},
   "source": [
    "## (9) Importing Packages\n",
    "\n",
    "Like R, we can perform a lot more advanced things using our code by using packages. Importing packages in Python uses the `import` keyword (vs. library() in R). Let's import the first package we're going to use, numpy. We'll use the `as` keyword to give it the shorthand `np` to save typing, which is a standard abbreviation you will see practically everywhere. You'll see that other Python packages also have standard abbreviations.\n",
    "<br></br>\n",
    "Note: It's good practice to import packages only once. In scripts, they are generally put at the very top before everything else. Here, we will import the packages as we need them."
   ]
  },
  {
   "cell_type": "code",
   "execution_count": 5,
   "id": "1b3987a6",
   "metadata": {},
   "outputs": [],
   "source": [
    "import numpy as np"
   ]
  },
  {
   "cell_type": "markdown",
   "id": "19f5cf41",
   "metadata": {},
   "source": [
    "As mentioned previously, you have to prefix everything from numpy with `np`. For example, numpy includes the constant pi and the sine function. Here's how you would call the sine of pi radians using np. "
   ]
  },
  {
   "cell_type": "code",
   "execution_count": 4,
   "id": "07d58265",
   "metadata": {},
   "outputs": [
    {
     "data": {
      "text/plain": [
       "1.0"
      ]
     },
     "execution_count": 4,
     "metadata": {},
     "output_type": "execute_result"
    }
   ],
   "source": [
    "np.sin(np.pi/2)"
   ]
  },
  {
   "cell_type": "markdown",
   "id": "24da0ab5",
   "metadata": {},
   "source": [
    "This line is the same as using `numpy.sin(numpy.pi/2)` but again, importing using a standard abbreviation saves us a lot of typing. "
   ]
  },
  {
   "cell_type": "markdown",
   "id": "ab953674",
   "metadata": {},
   "source": [
    "**The two main takeaways of importing packages are:**\n",
    "1. Always use the `import` statement. This is your library() function in R. \n",
    "2. Put the package name before the period in front of any function that is specific to the package. \n",
    "\n",
    "There are more complicated ways to import packages. "
   ]
  },
  {
   "cell_type": "code",
   "execution_count": 6,
   "id": "69bf7732",
   "metadata": {},
   "outputs": [],
   "source": [
    "import matplotlib.pyplot as plt"
   ]
  },
  {
   "cell_type": "markdown",
   "id": "12488082",
   "metadata": {},
   "source": [
    "`pyplot` is the plotting functionality of `matplotlib`, so this import statement would only import pyplot and any of its dependencies in matplotlib. \n",
    "\n",
    "An easier way to do this if you just want a specific function(s) in a package is using the `from` keyword. "
   ]
  },
  {
   "cell_type": "code",
   "execution_count": 4,
   "id": "b93e4452",
   "metadata": {},
   "outputs": [],
   "source": [
    "from numpy import pi\n",
    "from numpy import sin"
   ]
  },
  {
   "cell_type": "markdown",
   "id": "ef3cdd9f",
   "metadata": {},
   "source": [
    "In this case, you would only get `pi` and `sin` from numpy. You wouldn't get something like cos, since we only imported pi and sin. Now, pi and sin are imported as a function and a float so we don't have to call numpy to use them."
   ]
  },
  {
   "cell_type": "code",
   "execution_count": null,
   "id": "176b126f",
   "metadata": {},
   "outputs": [],
   "source": [
    "sin(pi/2) # this does not work unless we specifically import these two functions/variables"
   ]
  },
  {
   "cell_type": "markdown",
   "id": "0f8a66a2",
   "metadata": {},
   "source": [
    "## (10) Numpy Arrays\n",
    "\n",
    "While numpy has a bunch of useful functions, the real meat of numpy are the (multidimensional) arrays it implements, called the `ndarray`. It has the following properties:\n",
    "\n",
    "* A fixed size.\n",
    "* A shape (dimension).\n",
    "* Its contents must be the same data type.\n",
    "\n",
    "First, let's look at a 1D array. You can declare one by calling passing a list into the function `np.array()`."
   ]
  },
  {
   "cell_type": "code",
   "execution_count": 6,
   "id": "24bec1b0",
   "metadata": {},
   "outputs": [
    {
     "data": {
      "text/plain": [
       "array([1, 2, 3])"
      ]
     },
     "execution_count": 6,
     "metadata": {},
     "output_type": "execute_result"
    }
   ],
   "source": [
    "arr = np.array([1, 2, 3])\n",
    "arr"
   ]
  },
  {
   "cell_type": "markdown",
   "id": "9b547efe",
   "metadata": {},
   "source": [
    "Why is the ndarray (and the numpy package in general) important? For one, we can use vectorized functions on them. For example, you can quickly perform mathematical operations on the entire array:"
   ]
  },
  {
   "cell_type": "code",
   "execution_count": 7,
   "id": "56c297d2",
   "metadata": {},
   "outputs": [
    {
     "name": "stdout",
     "output_type": "stream",
     "text": [
      "[2 3 4]\n"
     ]
    }
   ],
   "source": [
    "print(arr + 1)"
   ]
  },
  {
   "cell_type": "markdown",
   "id": "c84092bc",
   "metadata": {},
   "source": [
    "Another benefit is that you get extra methods that you can apply on the arrays. For example, you can quickly find the mean and variance of the values in your array without having to write those functions yourself."
   ]
  },
  {
   "cell_type": "code",
   "execution_count": 8,
   "id": "d61cbe22",
   "metadata": {},
   "outputs": [
    {
     "name": "stdout",
     "output_type": "stream",
     "text": [
      "250.0\n",
      "21666.666666666668\n"
     ]
    }
   ],
   "source": [
    "arr = np.arange(0, 501, 10) # we can get a list of every 10th number from 0 to 500 using the arange function\n",
    "\n",
    "print(arr.mean()) # np.mean(arr) is the equivalent function, but it is much slower\n",
    "print(arr.var()) # np.var(arr) is the equivalent function, but it is much slower"
   ]
  },
  {
   "cell_type": "markdown",
   "id": "7ef84290",
   "metadata": {},
   "source": [
    "Accessing values from a 1D array is the same as accessing values from a python list."
   ]
  },
  {
   "cell_type": "code",
   "execution_count": 9,
   "id": "5c6a86cc",
   "metadata": {},
   "outputs": [
    {
     "name": "stdout",
     "output_type": "stream",
     "text": [
      "20\n",
      "[  0  10  20  30  40  50  60  70  80  90 100 110 120 130 140 150 160 170\n",
      " 180 190 200 210 220 230 240 250 260 270 280 290 300 310 320 330 340 350\n",
      " 360 370 380 390 400 410 420 430 440 450 460 470 480 490 500]\n",
      "[ 0 10]\n"
     ]
    }
   ],
   "source": [
    "print(arr[2])\n",
    "print(arr[:])\n",
    "print(arr[0:2])"
   ]
  },
  {
   "cell_type": "markdown",
   "id": "52f6cba9",
   "metadata": {},
   "source": [
    "You can also create 2D arrays with numpy (not quite data frames, we'll cover that in the pandas section). The way you declare one is very similar to making the 1D array, except you pass it a list of lists."
   ]
  },
  {
   "cell_type": "code",
   "execution_count": 10,
   "id": "47cadb79",
   "metadata": {},
   "outputs": [
    {
     "data": {
      "text/plain": [
       "array([[1, 2, 3],\n",
       "       [4, 5, 6],\n",
       "       [7, 8, 9]])"
      ]
     },
     "execution_count": 10,
     "metadata": {},
     "output_type": "execute_result"
    }
   ],
   "source": [
    "arr2d = np.array([[1,2,3], [4,5,6], [7,8,9]])\n",
    "arr2d"
   ]
  },
  {
   "cell_type": "markdown",
   "id": "b2ab22c4",
   "metadata": {},
   "source": [
    "2D arrays support all of the functionality of 1D arrays (vectorized functions, `.mean()`, `.var()`, accessing values/splicing) and also have some additional attribute functionality.\n",
    "\n",
    "* `.shape` returns the dimensions of our 2D array\n",
    "* `.T` returns the transposed version of our 2D array (note that this is a capitalized T!)"
   ]
  },
  {
   "cell_type": "markdown",
   "id": "ed5e853c",
   "metadata": {},
   "source": [
    "**Exercise 10.1**\n",
    "\n",
    "1. What are the dimensions of `arr2d`?\n",
    "2. Create a new array called `t_array` with the transposed version of `arr2d`."
   ]
  },
  {
   "cell_type": "code",
   "execution_count": 13,
   "id": "b1079262",
   "metadata": {},
   "outputs": [
    {
     "data": {
      "text/plain": [
       "array([[1, 4, 7],\n",
       "       [2, 5, 8],\n",
       "       [3, 6, 9]])"
      ]
     },
     "execution_count": 13,
     "metadata": {},
     "output_type": "execute_result"
    }
   ],
   "source": [
    "arr2d.shape\n",
    "t_array = arr2d.T\n",
    "t_array"
   ]
  },
  {
   "cell_type": "markdown",
   "id": "dc5f067a",
   "metadata": {},
   "source": [
    "There's not too much else you need to know about numpy arrays, since most of your data will be in a data frame. Let's move on to pandas!"
   ]
  },
  {
   "cell_type": "markdown",
   "id": "4d190e31",
   "metadata": {},
   "source": [
    "## (11) Pandas\n",
    "\n",
    "The pandas package implements data frames, which are similar to those in R. As usual, we'll have to load it beforehand, so let's do it (`pd` is a standard abbreviation for pandas that you'll see pretty much everywhere pandas is used)."
   ]
  },
  {
   "cell_type": "code",
   "execution_count": 16,
   "id": "74fe307d",
   "metadata": {
    "scrolled": true
   },
   "outputs": [],
   "source": [
    "import pandas as pd"
   ]
  },
  {
   "cell_type": "markdown",
   "id": "5883ee18",
   "metadata": {},
   "source": [
    "### Pandas Series\n",
    "\n",
    "A pandas `Series` object is in essence, a better, more functional version of the native python list. Unlike numpy arrays, they can store different data types in the same Series object. Here are a few examples of Series and functions that show what makes them so great."
   ]
  },
  {
   "cell_type": "code",
   "execution_count": 17,
   "id": "37c5ccd8",
   "metadata": {},
   "outputs": [
    {
     "name": "stdout",
     "output_type": "stream",
     "text": [
      "0     1\n",
      "1     2\n",
      "2     4\n",
      "3    12\n",
      "dtype: int64\n",
      "2     4\n",
      "3    12\n",
      "dtype: int64\n",
      "0    t\n",
      "1    e\n",
      "2    s\n",
      "3    t\n",
      "dtype: object\n",
      "0      i\n",
      "1      i\n",
      "2      g\n",
      "3    NaN\n",
      "dtype: object\n"
     ]
    }
   ],
   "source": [
    "my_list = [1,2,4,12]\n",
    "my_series = pd.Series(my_list)\n",
    "\n",
    "print(my_series)\n",
    "\n",
    "print(my_series.loc[my_series > 3]) # [my_series > 3] is a Boolean mask! More on that in a bit\n",
    "\n",
    "my_char_series = pd.Series(char for char in 'test')\n",
    "print(my_char_series)\n",
    "\n",
    "my_string_series = pd.Series(['This is a string', 'This is also a string', 'Yet again, another string', 'lol'])\n",
    "print(my_string_series.str[5]) # this is a little more advanced than what we're looking at in this course, but basically\n",
    "# you are using what is called a 'vectorized' operation to get the index=5 (6th element) character in each string"
   ]
  },
  {
   "cell_type": "markdown",
   "id": "e8f5204d",
   "metadata": {},
   "source": [
    "### Pandas DataFrame\n",
    "\n",
    "A pandas `DataFrame` in essence is the same as any R dataframe but they work a bit differently. Pandas is a package and dataframes aren't part of the base code of python the same way they are in R.\n",
    "\n",
    "You still have columns and rows though, which can have integer indices (remember python is a 0-based indexing language!) \n",
    "\n",
    "You can have different columns that contain different data types (try and keep every column to a single data type although you don't necesarrily have to).\n",
    "\n",
    "You can make a data frame with the `.DataFrame()` function. This will convert a dictionary (of lists, Series (another pandas object), lists, tuples, etc), numpy array, or any other iterable object into a pandas DataFrame object"
   ]
  },
  {
   "cell_type": "code",
   "execution_count": 18,
   "id": "817a38b6",
   "metadata": {},
   "outputs": [
    {
     "name": "stdout",
     "output_type": "stream",
     "text": [
      "   a      b                c\n",
      "0  0  False          This is\n",
      "1  1   True  three different\n",
      "2  2   True         strings!\n",
      "\n",
      "      0      1     2    3\n",
      "0     1      2     3  4.0\n",
      "1     2      6  None  NaN\n",
      "2  True  False  True  NaN\n"
     ]
    }
   ],
   "source": [
    "# a dictionary with keys (columns) a, b, c, with values numerical values\n",
    "df1 = pd.DataFrame({\n",
    "    'a': [0, 1, 2],\n",
    "    'b': [False, True, True],\n",
    "    'c': ['This is', 'three different', 'strings!']\n",
    "})\n",
    "\n",
    "# a dataframe from a two dimensional array, though its unnamed\n",
    "df2 = pd.DataFrame([\n",
    "    [1,2,3,4],\n",
    "    [2,6],\n",
    "    ['True', False, True]\n",
    "])\n",
    "\n",
    "print(df1)\n",
    "print('')\n",
    "print(df2)\n",
    "# notice how pandas always makes the DataFrame object rectangular, and fills in \n",
    "# NaN (this is a pd.NA object and is equivalent to NA in R) for any spots where it is missing data"
   ]
  },
  {
   "cell_type": "markdown",
   "id": "00d0fb17",
   "metadata": {},
   "source": [
    "In general, you can use the same commands implemented in numpy on pandas dataframes. Here are some data attributes that are useful:\n",
    "* `.index`: This will give you the index of every row.\n",
    "* `.columns` This will give you the column names.\n",
    "* `.axes`: This is a list that contains both the indices and columns in that order (i.e. [index, columns]).\n",
    "* `.shape`: As with numpy, this atrributre is a tuple containing the shape of the dataframe (i.e. rows by columns).\n",
    "* `.dtypes`: This contains the datatypes in each column of the dataframe."
   ]
  },
  {
   "cell_type": "code",
   "execution_count": 19,
   "id": "cb6d10c4",
   "metadata": {},
   "outputs": [
    {
     "name": "stdout",
     "output_type": "stream",
     "text": [
      "   a      b                c\n",
      "0  0  False          This is\n",
      "1  1   True  three different\n",
      "2  2   True         strings!\n",
      "\n",
      "-----------\n",
      "\n",
      "Here's the axes (names by row, column):\n",
      "[RangeIndex(start=0, stop=3, step=1), Index(['a', 'b', 'c'], dtype='object')]\n",
      "\n",
      "Here's the shape:\n",
      "(3, 3)\n",
      "\n",
      "Here's the data types in each column:\n",
      "a     int64\n",
      "b      bool\n",
      "c    object\n",
      "dtype: object\n",
      "\n"
     ]
    }
   ],
   "source": [
    "print(df1)\n",
    "\n",
    "print('\\n-----------\\n')\n",
    "\n",
    "print(f\"Here's the axes (names by row, column):\\n{df1.axes}\\n\")\n",
    "print(f\"Here's the shape:\\n{df1.shape}\\n\")\n",
    "print(f\"Here's the data types in each column:\\n{df1.dtypes}\\n\")"
   ]
  },
  {
   "cell_type": "markdown",
   "id": "ed579553",
   "metadata": {},
   "source": [
    "#### Accessing Rows/Columns in a DataFrame\n",
    "\n",
    "Since the DataFrame object isn't built into python like it is into R, you can't just use [row, column] notation to access different rows or columns.\n",
    "The best way to access rows and columns in pandas DataFrame objects is using the functions `.loc()`, and `.iloc()`. These functions give a Series object as the return value.\n",
    "\n",
    "* `.loc()`: This gets values by its name. You need to specify which rows (by index) and columns (by name). Note that you can select multiple columns if you pass a list of column names.\n",
    "* `.iloc()`: This gets values by its index (hence, index-loc). You don't need to specify both rows and columns -- if you don't, it will default to rows only. (To make your code more readable and to make the syntax easier to remember, it's probably best to specify both anyways).\n",
    "\n"
   ]
  },
  {
   "cell_type": "code",
   "execution_count": 20,
   "id": "270b23de",
   "metadata": {},
   "outputs": [
    {
     "name": "stdout",
     "output_type": "stream",
     "text": [
      "0    0\n",
      "1    1\n",
      "2    2\n",
      "Name: a, dtype: int64\n",
      "0            This is\n",
      "1    three different\n",
      "2           strings!\n",
      "Name: c, dtype: object\n",
      "a                  1\n",
      "b               True\n",
      "c    three different\n",
      "Name: 1, dtype: object\n",
      "a                  1\n",
      "b               True\n",
      "c    three different\n",
      "Name: 1, dtype: object\n"
     ]
    }
   ],
   "source": [
    "print(df1.loc[:,'a'])  # gets every value in column 'a'\n",
    "print(df1.iloc[:, 2])  # gets every value in column 2, which is also named 'c'\n",
    "print(df1.iloc[1])     # gets every value in row 1, which is the second row\n",
    "print(df1.iloc[1, :])  # same as above, but this syntax makes it clearer than the above"
   ]
  },
  {
   "cell_type": "markdown",
   "id": "5a6a12f4",
   "metadata": {},
   "source": [
    "Other ways to access values\n",
    "\n",
    "There are a few other different ways to access rows and columns in pandas DataFrame objects but they aren't always as clear and you should generally try to stick to `.loc()` and `.iloc()` for ease of reading\n",
    "\n",
    "Using the dot (`.`) to access the attribute directly; for example `df1.a`. This is probably the shortest method (as long as the name of your attribute doesn't have spaces or special characters (e.g. `Name of Gene`, instead of `gene_name`)).\n",
    "\n",
    "Using single square brackets to get columns, for example `df1['a']`. Note that the name a is a string.\n",
    "\n",
    "Using double square brackets, for example `df1[['a']]`. Note that this returns a 2D data frame, not a 1D series (which is just a 1D array in pandas). This method has the benefit of being able to select multiple columns, such as by `df1[['a', 'b', 'c']]`.\n"
   ]
  },
  {
   "cell_type": "code",
   "execution_count": 21,
   "id": "d844cc86",
   "metadata": {},
   "outputs": [
    {
     "name": "stdout",
     "output_type": "stream",
     "text": [
      "0    0\n",
      "1    1\n",
      "2    2\n",
      "Name: a, dtype: int64\n",
      "0    0\n",
      "1    1\n",
      "2    2\n",
      "Name: a, dtype: int64\n",
      "   a\n",
      "0  0\n",
      "1  1\n",
      "2  2\n"
     ]
    }
   ],
   "source": [
    "print(df1.a)\n",
    "print(df1['a'])\n",
    "print(df1[['a']])"
   ]
  },
  {
   "cell_type": "markdown",
   "id": "d6283e8a",
   "metadata": {},
   "source": [
    "## (12) Boolean Indexing\n",
    "As with R, you have the option of selecting rows by boolean indexing by using the loc attribute. As a review, you can apply vectorized comparison operators to an entire 1D pandas array (i.e. a pandas series):"
   ]
  },
  {
   "cell_type": "code",
   "execution_count": 23,
   "id": "b1f558c2",
   "metadata": {},
   "outputs": [
    {
     "name": "stdout",
     "output_type": "stream",
     "text": [
      "0    0\n",
      "1    1\n",
      "2    2\n",
      "Name: a, dtype: int64\n"
     ]
    },
    {
     "data": {
      "text/plain": [
       "0    False\n",
       "1     True\n",
       "2     True\n",
       "Name: a, dtype: bool"
      ]
     },
     "execution_count": 23,
     "metadata": {},
     "output_type": "execute_result"
    }
   ],
   "source": [
    "print(df1.a)\n",
    "df1.a >= 1"
   ]
  },
  {
   "cell_type": "markdown",
   "id": "9cf648ea",
   "metadata": {},
   "source": [
    "Therefore, you can select rows by putting boolean values into the loc columns."
   ]
  },
  {
   "cell_type": "code",
   "execution_count": 24,
   "id": "5213f508",
   "metadata": {},
   "outputs": [
    {
     "data": {
      "text/plain": [
       "1    True\n",
       "2    True\n",
       "Name: b, dtype: bool"
      ]
     },
     "execution_count": 24,
     "metadata": {},
     "output_type": "execute_result"
    }
   ],
   "source": [
    "df1.loc[df1.a >= 1, 'b']  # gets the column 'b' for every row with a value of 1 or greater in the column 'a'"
   ]
  },
  {
   "cell_type": "markdown",
   "id": "6d64e0b2",
   "metadata": {},
   "source": [
    "Use the following exercise array:"
   ]
  },
  {
   "cell_type": "code",
   "execution_count": 48,
   "id": "6ccb93f0",
   "metadata": {},
   "outputs": [
    {
     "data": {
      "text/html": [
       "<div>\n",
       "<style scoped>\n",
       "    .dataframe tbody tr th:only-of-type {\n",
       "        vertical-align: middle;\n",
       "    }\n",
       "\n",
       "    .dataframe tbody tr th {\n",
       "        vertical-align: top;\n",
       "    }\n",
       "\n",
       "    .dataframe thead th {\n",
       "        text-align: right;\n",
       "    }\n",
       "</style>\n",
       "<table border=\"1\" class=\"dataframe\">\n",
       "  <thead>\n",
       "    <tr style=\"text-align: right;\">\n",
       "      <th></th>\n",
       "      <th>a</th>\n",
       "      <th>b</th>\n",
       "      <th>c</th>\n",
       "      <th>d</th>\n",
       "      <th>e</th>\n",
       "      <th>f</th>\n",
       "      <th>g</th>\n",
       "      <th>h</th>\n",
       "      <th>i</th>\n",
       "      <th>j</th>\n",
       "    </tr>\n",
       "  </thead>\n",
       "  <tbody>\n",
       "    <tr>\n",
       "      <th>0</th>\n",
       "      <td>0</td>\n",
       "      <td>1</td>\n",
       "      <td>2</td>\n",
       "      <td>3</td>\n",
       "      <td>4</td>\n",
       "      <td>5</td>\n",
       "      <td>6</td>\n",
       "      <td>7</td>\n",
       "      <td>8</td>\n",
       "      <td>9</td>\n",
       "    </tr>\n",
       "    <tr>\n",
       "      <th>1</th>\n",
       "      <td>10</td>\n",
       "      <td>11</td>\n",
       "      <td>12</td>\n",
       "      <td>13</td>\n",
       "      <td>14</td>\n",
       "      <td>15</td>\n",
       "      <td>16</td>\n",
       "      <td>17</td>\n",
       "      <td>18</td>\n",
       "      <td>19</td>\n",
       "    </tr>\n",
       "    <tr>\n",
       "      <th>2</th>\n",
       "      <td>20</td>\n",
       "      <td>21</td>\n",
       "      <td>22</td>\n",
       "      <td>23</td>\n",
       "      <td>24</td>\n",
       "      <td>25</td>\n",
       "      <td>26</td>\n",
       "      <td>27</td>\n",
       "      <td>28</td>\n",
       "      <td>29</td>\n",
       "    </tr>\n",
       "    <tr>\n",
       "      <th>3</th>\n",
       "      <td>30</td>\n",
       "      <td>31</td>\n",
       "      <td>32</td>\n",
       "      <td>33</td>\n",
       "      <td>34</td>\n",
       "      <td>35</td>\n",
       "      <td>36</td>\n",
       "      <td>37</td>\n",
       "      <td>38</td>\n",
       "      <td>39</td>\n",
       "    </tr>\n",
       "    <tr>\n",
       "      <th>4</th>\n",
       "      <td>40</td>\n",
       "      <td>41</td>\n",
       "      <td>42</td>\n",
       "      <td>43</td>\n",
       "      <td>44</td>\n",
       "      <td>45</td>\n",
       "      <td>46</td>\n",
       "      <td>47</td>\n",
       "      <td>48</td>\n",
       "      <td>49</td>\n",
       "    </tr>\n",
       "    <tr>\n",
       "      <th>5</th>\n",
       "      <td>50</td>\n",
       "      <td>51</td>\n",
       "      <td>52</td>\n",
       "      <td>53</td>\n",
       "      <td>54</td>\n",
       "      <td>55</td>\n",
       "      <td>56</td>\n",
       "      <td>57</td>\n",
       "      <td>58</td>\n",
       "      <td>59</td>\n",
       "    </tr>\n",
       "    <tr>\n",
       "      <th>6</th>\n",
       "      <td>60</td>\n",
       "      <td>61</td>\n",
       "      <td>62</td>\n",
       "      <td>63</td>\n",
       "      <td>64</td>\n",
       "      <td>65</td>\n",
       "      <td>66</td>\n",
       "      <td>67</td>\n",
       "      <td>68</td>\n",
       "      <td>69</td>\n",
       "    </tr>\n",
       "    <tr>\n",
       "      <th>7</th>\n",
       "      <td>70</td>\n",
       "      <td>71</td>\n",
       "      <td>72</td>\n",
       "      <td>73</td>\n",
       "      <td>74</td>\n",
       "      <td>75</td>\n",
       "      <td>76</td>\n",
       "      <td>77</td>\n",
       "      <td>78</td>\n",
       "      <td>79</td>\n",
       "    </tr>\n",
       "    <tr>\n",
       "      <th>8</th>\n",
       "      <td>80</td>\n",
       "      <td>81</td>\n",
       "      <td>82</td>\n",
       "      <td>83</td>\n",
       "      <td>84</td>\n",
       "      <td>85</td>\n",
       "      <td>86</td>\n",
       "      <td>87</td>\n",
       "      <td>88</td>\n",
       "      <td>89</td>\n",
       "    </tr>\n",
       "    <tr>\n",
       "      <th>9</th>\n",
       "      <td>90</td>\n",
       "      <td>91</td>\n",
       "      <td>92</td>\n",
       "      <td>93</td>\n",
       "      <td>94</td>\n",
       "      <td>95</td>\n",
       "      <td>96</td>\n",
       "      <td>97</td>\n",
       "      <td>98</td>\n",
       "      <td>99</td>\n",
       "    </tr>\n",
       "  </tbody>\n",
       "</table>\n",
       "</div>"
      ],
      "text/plain": [
       "    a   b   c   d   e   f   g   h   i   j\n",
       "0   0   1   2   3   4   5   6   7   8   9\n",
       "1  10  11  12  13  14  15  16  17  18  19\n",
       "2  20  21  22  23  24  25  26  27  28  29\n",
       "3  30  31  32  33  34  35  36  37  38  39\n",
       "4  40  41  42  43  44  45  46  47  48  49\n",
       "5  50  51  52  53  54  55  56  57  58  59\n",
       "6  60  61  62  63  64  65  66  67  68  69\n",
       "7  70  71  72  73  74  75  76  77  78  79\n",
       "8  80  81  82  83  84  85  86  87  88  89\n",
       "9  90  91  92  93  94  95  96  97  98  99"
      ]
     },
     "execution_count": 48,
     "metadata": {},
     "output_type": "execute_result"
    }
   ],
   "source": [
    "#  feel free to try to understand this code, though by all means it's not expected that you will\n",
    "df_exercise = pd.DataFrame(\n",
    "    [[10*j + i for i in range(10)] for j in range(10)],\n",
    "    columns = [char for char in \"abcdefghij\"])\n",
    "df_exercise"
   ]
  },
  {
   "cell_type": "markdown",
   "id": "8ece899d",
   "metadata": {},
   "source": [
    "**Exercise 12.1**\n",
    "\n",
    "Select columns b-g and store it as a separate data frame named df_new. Can you think of more than one way to do so?\n",
    "Filter out rows in df_new where the value in c is not a multiple of 3 (modify df_new). Remember that the modulo (%) operator gets the remainder.\n",
    "Get the value at index (2, 3). It should be 74."
   ]
  },
  {
   "cell_type": "code",
   "execution_count": 50,
   "id": "80ee54c2",
   "metadata": {},
   "outputs": [
    {
     "name": "stdout",
     "output_type": "stream",
     "text": [
      "    b   c   d   e   f   g\n",
      "0   1   2   3   4   5   6\n",
      "1  11  12  13  14  15  16\n",
      "2  21  22  23  24  25  26\n",
      "3  31  32  33  34  35  36\n",
      "4  41  42  43  44  45  46\n",
      "5  51  52  53  54  55  56\n",
      "6  61  62  63  64  65  66\n",
      "7  71  72  73  74  75  76\n",
      "8  81  82  83  84  85  86\n",
      "9  91  92  93  94  95  96\n",
      "    b   c   d   e   f   g\n",
      "1  11  12  13  14  15  16\n",
      "4  41  42  43  44  45  46\n",
      "7  71  72  73  74  75  76\n"
     ]
    },
    {
     "data": {
      "text/plain": [
       "74"
      ]
     },
     "execution_count": 50,
     "metadata": {},
     "output_type": "execute_result"
    }
   ],
   "source": [
    "# write code here\n",
    "df_new = df_exercise[[\"b\", \"c\", \"d\", \"e\", \"f\", \"g\"]]\n",
    "\n",
    "df_new = df_exercise.loc[:, 'b':'g']\n",
    "print(df_new)\n",
    "df_new = df_new[df_new['c'] % 3 ==0]\n",
    "print(df_new)\n",
    "\n",
    "df_new.iloc[2,3]"
   ]
  },
  {
   "cell_type": "markdown",
   "id": "3b4ce873",
   "metadata": {},
   "source": [
    "## (13) Matplotlib\n",
    "\n",
    "Matplotlib is the main plotting package in Python. Specifically, we will be using the `pyplot` module from matplotlib (the package is massive, so it's faster to just get the specific module you need (plt is the go-to common shortening for matplotlib.pyplot). Here's how you typically would import it."
   ]
  },
  {
   "cell_type": "code",
   "execution_count": 51,
   "id": "0ce4d18d",
   "metadata": {},
   "outputs": [],
   "source": [
    "import matplotlib.pyplot as plt"
   ]
  },
  {
   "cell_type": "markdown",
   "id": "45fa8004",
   "metadata": {},
   "source": [
    "The workflow behind pyplot is somewhat familiar to plotting with R: you create the plot, then show the plot (or alternatively, save it to a file). For example, let's plot a simple sine wave:"
   ]
  },
  {
   "cell_type": "code",
   "execution_count": 52,
   "id": "9dad882c",
   "metadata": {},
   "outputs": [
    {
     "data": {
      "image/png": "[encoded data removed]",
      "text/plain": [
       "<Figure size 640x480 with 1 Axes>"
      ]
     },
     "metadata": {},
     "output_type": "display_data"
    }
   ],
   "source": [
    "# generates values from 0 to 10 in 0.1 intervals to plot\n",
    "x_vals = [i/10 for i in range(0, 100)]\n",
    "y_vals = np.sin(x_vals)\n",
    "\n",
    "# sets up the plot area\n",
    "# note that one function can have 2 return values in Python\n",
    "fig, ax = plt.subplots(1, 1)  # this controls the number of subplots and how they're placed\n",
    "\n",
    "# use ax to plot the data\n",
    "ax.plot(x_vals, y_vals)\n",
    "plt.show() # show the most recent plot created"
   ]
  },
  {
   "cell_type": "markdown",
   "id": "aa3ffc23",
   "metadata": {},
   "source": [
    "Let's break down all the objects we made:\n",
    "\n",
    "* `fig` doesn't really ever get used.\n",
    "* `ax` controls the axes -- in short, it controls the variables you plot, the plot labels, etc.\n",
    "* `plt`  is the plot module you imported, which you can think of as a \"plot window.\" Basically, the plots you made get saved to plt, and from there you can see the plots you made.\n",
    "\n",
    "You can look into the matplotlib.figure module on your own time to see all the options, though here's an example with using subplots and labeling the axis labels (using the set function):"
   ]
  },
  {
   "cell_type": "code",
   "execution_count": 54,
   "id": "688d8791",
   "metadata": {},
   "outputs": [
    {
     "data": {
      "image/png": "[encoded data removed]",
      "text/plain": [
       "<Figure size 640x480 with 4 Axes>"
      ]
     },
     "metadata": {},
     "output_type": "display_data"
    }
   ],
   "source": [
    "# good to know: constrained_layout spaces the plots out so plot titles don't overlap\n",
    "\n",
    "fig, ax = plt.subplots(2, 2, constrained_layout=True)\n",
    "\n",
    "# ax is an list of lists (2D list) -- you need two brackets to access the data\n",
    "ax[0][0].plot(x_vals, y_vals, color='red') \n",
    "ax[0][0].set(title = \"sin(x)\", ylabel='y', xlabel='x')\n",
    "\n",
    "ax[0][1].hist(x_vals, color='green')  # a very boring histogram\n",
    "ax[0][1].set(title = \"just x values\", ylabel='counts', xlabel='x values')\n",
    "\n",
    "ax[1][0].scatter(x_vals, y_vals, color='purple', s=0.1)\n",
    "ax[1][0].set(title = \"scatter plot\", ylabel='y', xlabel='x')\n",
    "\n",
    "ax[1][1].plot(x_vals, y_vals, color='pink')\n",
    "ax[1][1].plot(x_vals, np.cos(x_vals), color='black')\n",
    "ax[1][1].set(title = \"sin(x) and cos(x)\", ylabel='y', xlabel='x')\n",
    "ax[1][1].legend(['sin(x)','cos(x)'], loc='upper right')\n",
    "\n",
    "plt.show()"
   ]
  },
  {
   "cell_type": "markdown",
   "id": "2d9c863a",
   "metadata": {},
   "source": [
    "To save a figure to your computer, you can either copy and paste it from this notebook, or (the better way), use plt.savefig() function.\n",
    "\n",
    "For creating figures that will eventually be seen by others, you'll want to use the following arguments:\n",
    "* `dpi=300`   - this ensures the saved pic will be clear even if blown up\n",
    "* `bbox_inches='tight'`   - you probably won't need this unless you are playing with the axes positions or adding multiple subplots but it's still useful as it prevents different parts from being cutoff"
   ]
  },
  {
   "cell_type": "code",
   "execution_count": 56,
   "id": "af981954",
   "metadata": {},
   "outputs": [
    {
     "data": {
      "text/plain": [
       "<Figure size 640x480 with 0 Axes>"
      ]
     },
     "metadata": {},
     "output_type": "display_data"
    }
   ],
   "source": [
    "# so the final way to save your figure would be...\n",
    "plt.savefig('C:/Users/zhang/OneDrive/college/qbio490/qbio_490_lucia/week10_python', dpi=300, bbox_inches='tight')\n",
    "plt.clf() # run plt.clf() between creating new figures to clear the old one out"
   ]
  },
  {
   "cell_type": "markdown",
   "id": "8ea40119",
   "metadata": {},
   "source": [
    "## Putting it all together...\n",
    "**Exercise 14.1**\n",
    "+ Define a function which takes in one input,`n`, and returns one output, `y`.\n",
    "+ The function should compute the following: Start with the number 100. If the number is divisible by 3, divide by 3. If it is not divisible by 3, add 7. Compute this `n` times. Return the output, `y`, of the nth computation. For example:\n",
    "> + n=0, return 100\n",
    "> + n=1, return 107\n",
    "> + n=2, return 114\n",
    "> + n=3, return 38 etc\n",
    "+ Create a list, `x_vals`, with the values 1-10\n",
    "+ Create a list, `y_vals`, with the output of the function for each x value.\n",
    "+ Plot `x_vals` versus `y_vals` in a line plot in the color red"
   ]
  },
  {
   "cell_type": "code",
   "execution_count": 73,
   "id": "b721b617",
   "metadata": {},
   "outputs": [
    {
     "data": {
      "text/plain": [
       "[<matplotlib.lines.Line2D at 0x26648846230>]"
      ]
     },
     "execution_count": 73,
     "metadata": {},
     "output_type": "execute_result"
    },
    {
     "data": {
      "image/png": "[encoded data removed]",
      "text/plain": [
       "<Figure size 640x480 with 1 Axes>"
      ]
     },
     "metadata": {},
     "output_type": "display_data"
    }
   ],
   "source": [
    "def sample(n):\n",
    "    y = 100\n",
    "    for i in range(n):\n",
    "        if y % 3 == 0:\n",
    "            y /=3\n",
    "        else:\n",
    "            y += 7\n",
    "    return y\n",
    "x_vals = list(range(1, 11))\n",
    "y_vals = [sample(x) for x in x_vals]\n",
    "plt.plot(x_vals, y_vals, color = \"red\")"
   ]
  },
  {
   "cell_type": "markdown",
   "id": "02e9f986",
   "metadata": {},
   "source": [
    "**Exercise 14.2**\n",
    "</br>Here is a predefined DataFrame. Explore the structure of it to understand how to complete the next parts.\n",
    "+ For each row in the DataFrame, compute the mean of the values in the row. \n",
    "+ Count the number of values in the row that are greater than the mean and add the count to `count_list`.\n",
    "+ Find the number of different values in your list (hint: you can use the set() wrapper to convert a list to a set) and call it `num_bins`.\n",
    "+ Create a histogram of your `count_list` with the argument `bins=num_bins` and the color purple.\n"
   ]
  },
  {
   "cell_type": "code",
   "execution_count": 74,
   "id": "2e742f31",
   "metadata": {},
   "outputs": [
    {
     "data": {
      "text/html": [
       "<div>\n",
       "<style scoped>\n",
       "    .dataframe tbody tr th:only-of-type {\n",
       "        vertical-align: middle;\n",
       "    }\n",
       "\n",
       "    .dataframe tbody tr th {\n",
       "        vertical-align: top;\n",
       "    }\n",
       "\n",
       "    .dataframe thead th {\n",
       "        text-align: right;\n",
       "    }\n",
       "</style>\n",
       "<table border=\"1\" class=\"dataframe\">\n",
       "  <thead>\n",
       "    <tr style=\"text-align: right;\">\n",
       "      <th></th>\n",
       "      <th>0</th>\n",
       "      <th>1</th>\n",
       "      <th>2</th>\n",
       "      <th>3</th>\n",
       "      <th>4</th>\n",
       "      <th>5</th>\n",
       "      <th>6</th>\n",
       "      <th>7</th>\n",
       "      <th>8</th>\n",
       "      <th>9</th>\n",
       "    </tr>\n",
       "  </thead>\n",
       "  <tbody>\n",
       "    <tr>\n",
       "      <th>0</th>\n",
       "      <td>15</td>\n",
       "      <td>88</td>\n",
       "      <td>87</td>\n",
       "      <td>60</td>\n",
       "      <td>27</td>\n",
       "      <td>13</td>\n",
       "      <td>91</td>\n",
       "      <td>24</td>\n",
       "      <td>85</td>\n",
       "      <td>79</td>\n",
       "    </tr>\n",
       "    <tr>\n",
       "      <th>1</th>\n",
       "      <td>73</td>\n",
       "      <td>57</td>\n",
       "      <td>63</td>\n",
       "      <td>63</td>\n",
       "      <td>103</td>\n",
       "      <td>27</td>\n",
       "      <td>64</td>\n",
       "      <td>13</td>\n",
       "      <td>43</td>\n",
       "      <td>21</td>\n",
       "    </tr>\n",
       "    <tr>\n",
       "      <th>2</th>\n",
       "      <td>53</td>\n",
       "      <td>105</td>\n",
       "      <td>68</td>\n",
       "      <td>62</td>\n",
       "      <td>42</td>\n",
       "      <td>70</td>\n",
       "      <td>109</td>\n",
       "      <td>89</td>\n",
       "      <td>81</td>\n",
       "      <td>49</td>\n",
       "    </tr>\n",
       "    <tr>\n",
       "      <th>3</th>\n",
       "      <td>92</td>\n",
       "      <td>38</td>\n",
       "      <td>19</td>\n",
       "      <td>32</td>\n",
       "      <td>46</td>\n",
       "      <td>25</td>\n",
       "      <td>100</td>\n",
       "      <td>78</td>\n",
       "      <td>42</td>\n",
       "      <td>42</td>\n",
       "    </tr>\n",
       "    <tr>\n",
       "      <th>4</th>\n",
       "      <td>31</td>\n",
       "      <td>89</td>\n",
       "      <td>56</td>\n",
       "      <td>79</td>\n",
       "      <td>49</td>\n",
       "      <td>31</td>\n",
       "      <td>38</td>\n",
       "      <td>68</td>\n",
       "      <td>49</td>\n",
       "      <td>119</td>\n",
       "    </tr>\n",
       "    <tr>\n",
       "      <th>...</th>\n",
       "      <td>...</td>\n",
       "      <td>...</td>\n",
       "      <td>...</td>\n",
       "      <td>...</td>\n",
       "      <td>...</td>\n",
       "      <td>...</td>\n",
       "      <td>...</td>\n",
       "      <td>...</td>\n",
       "      <td>...</td>\n",
       "      <td>...</td>\n",
       "    </tr>\n",
       "    <tr>\n",
       "      <th>995</th>\n",
       "      <td>5011</td>\n",
       "      <td>4982</td>\n",
       "      <td>4989</td>\n",
       "      <td>5074</td>\n",
       "      <td>5024</td>\n",
       "      <td>5040</td>\n",
       "      <td>5005</td>\n",
       "      <td>4976</td>\n",
       "      <td>5010</td>\n",
       "      <td>5008</td>\n",
       "    </tr>\n",
       "    <tr>\n",
       "      <th>996</th>\n",
       "      <td>5059</td>\n",
       "      <td>5056</td>\n",
       "      <td>4992</td>\n",
       "      <td>4996</td>\n",
       "      <td>5032</td>\n",
       "      <td>5025</td>\n",
       "      <td>4995</td>\n",
       "      <td>5008</td>\n",
       "      <td>5008</td>\n",
       "      <td>5058</td>\n",
       "    </tr>\n",
       "    <tr>\n",
       "      <th>997</th>\n",
       "      <td>5071</td>\n",
       "      <td>5051</td>\n",
       "      <td>5004</td>\n",
       "      <td>5009</td>\n",
       "      <td>5082</td>\n",
       "      <td>5053</td>\n",
       "      <td>5065</td>\n",
       "      <td>4995</td>\n",
       "      <td>5073</td>\n",
       "      <td>5073</td>\n",
       "    </tr>\n",
       "    <tr>\n",
       "      <th>998</th>\n",
       "      <td>5005</td>\n",
       "      <td>5042</td>\n",
       "      <td>5058</td>\n",
       "      <td>5083</td>\n",
       "      <td>5059</td>\n",
       "      <td>5043</td>\n",
       "      <td>5081</td>\n",
       "      <td>5072</td>\n",
       "      <td>5028</td>\n",
       "      <td>5069</td>\n",
       "    </tr>\n",
       "    <tr>\n",
       "      <th>999</th>\n",
       "      <td>5069</td>\n",
       "      <td>5042</td>\n",
       "      <td>5050</td>\n",
       "      <td>5007</td>\n",
       "      <td>5023</td>\n",
       "      <td>5045</td>\n",
       "      <td>5012</td>\n",
       "      <td>5064</td>\n",
       "      <td>5007</td>\n",
       "      <td>5034</td>\n",
       "    </tr>\n",
       "  </tbody>\n",
       "</table>\n",
       "<p>1000 rows × 10 columns</p>\n",
       "</div>"
      ],
      "text/plain": [
       "        0     1     2     3     4     5     6     7     8     9\n",
       "0      15    88    87    60    27    13    91    24    85    79\n",
       "1      73    57    63    63   103    27    64    13    43    21\n",
       "2      53   105    68    62    42    70   109    89    81    49\n",
       "3      92    38    19    32    46    25   100    78    42    42\n",
       "4      31    89    56    79    49    31    38    68    49   119\n",
       "..    ...   ...   ...   ...   ...   ...   ...   ...   ...   ...\n",
       "995  5011  4982  4989  5074  5024  5040  5005  4976  5010  5008\n",
       "996  5059  5056  4992  4996  5032  5025  4995  5008  5008  5058\n",
       "997  5071  5051  5004  5009  5082  5053  5065  4995  5073  5073\n",
       "998  5005  5042  5058  5083  5059  5043  5081  5072  5028  5069\n",
       "999  5069  5042  5050  5007  5023  5045  5012  5064  5007  5034\n",
       "\n",
       "[1000 rows x 10 columns]"
      ]
     },
     "execution_count": 74,
     "metadata": {},
     "output_type": "execute_result"
    }
   ],
   "source": [
    "import random\n",
    "example_df = pd.DataFrame(\n",
    "    [[random.randint(1,100)+j*5 for i in range(10)] for j in range(1000)], \n",
    "    columns=[i for i in range(10)])\n",
    "example_df"
   ]
  },
  {
   "cell_type": "code",
   "execution_count": 91,
   "id": "92dea40d",
   "metadata": {},
   "outputs": [
    {
     "data": {
      "image/png": "[encoded data removed]",
      "text/plain": [
       "<Figure size 640x480 with 1 Axes>"
      ]
     },
     "metadata": {},
     "output_type": "display_data"
    }
   ],
   "source": [
    "count_list = []\n",
    "\n",
    "for row in range(len(example_df)):\n",
    "    mean = example_df.iloc[row,:].mean()\n",
    "    count_list.append(sum(example_df.iloc[row,:] > mean))\n",
    "\n",
    "num_bins = len(set(count_list))\n",
    "\n",
    "plt.hist(count_list, bins=num_bins, color='purple')\n",
    "plt.show()"
   ]
  },
  {
   "cell_type": "markdown",
   "id": "764d83ca",
   "metadata": {},
   "source": [
    "**Exercise 14.3 (Extra Credit)**\n",
    "</br> The code below will import the `iris` dataset, a commonly used dataset in pattern recognition. It contains 150 measurements from three different types of irises, *Iris setosa*, *Iris versicolor*, and *Iris virginica*. These are denoted with the numbers 0, 1, and 2 respectively in the DataFrame. The measurements include sepal length, sepal width, petal length, and petal width.\n",
    "+ Create a single figure with 4 scatterplots comparing all four combinations of length and width.\n",
    "+ Color the points based on their species. \n",
    "+ Add an appropriate title, axis labels, and legend. \n",
    "+ Determine which combination of measurements is best able to differentiate the species of iris and explain why."
   ]
  },
  {
   "cell_type": "code",
   "execution_count": 96,
   "id": "b7eab2c9",
   "metadata": {},
   "outputs": [
    {
     "ename": "ModuleNotFoundError",
     "evalue": "No module named 'sklearn'",
     "output_type": "error",
     "traceback": [
      "\u001b[1;31m---------------------------------------------------------------------------\u001b[0m",
      "\u001b[1;31mModuleNotFoundError\u001b[0m                       Traceback (most recent call last)",
      "Cell \u001b[1;32mIn[96], line 1\u001b[0m\n\u001b[1;32m----> 1\u001b[0m \u001b[38;5;28;01mfrom\u001b[39;00m \u001b[38;5;21;01msklearn\u001b[39;00m \u001b[38;5;28;01mimport\u001b[39;00m datasets\n\u001b[0;32m      3\u001b[0m iris \u001b[38;5;241m=\u001b[39m datasets\u001b[38;5;241m.\u001b[39mload_iris()\n\u001b[0;32m      4\u001b[0m iris_df \u001b[38;5;241m=\u001b[39m pd\u001b[38;5;241m.\u001b[39mDataFrame(iris\u001b[38;5;241m.\u001b[39mdata[:, :\u001b[38;5;241m4\u001b[39m], columns\u001b[38;5;241m=\u001b[39miris\u001b[38;5;241m.\u001b[39mfeature_names)\n",
      "\u001b[1;31mModuleNotFoundError\u001b[0m: No module named 'sklearn'"
     ]
    }
   ],
   "source": [
    "from sklearn import datasets\n",
    "\n",
    "iris = datasets.load_iris()\n",
    "iris_df = pd.DataFrame(iris.data[:, :4], columns=iris.feature_names)\n",
    "iris_df = pd.concat([iris_df, pd.Series(iris.target, name='species')], axis=1)"
   ]
  },
  {
   "cell_type": "code",
   "execution_count": 93,
   "id": "0af6fd99",
   "metadata": {
    "scrolled": true
   },
   "outputs": [
    {
     "ename": "NameError",
     "evalue": "name 'iris_df' is not defined",
     "output_type": "error",
     "traceback": [
      "\u001b[1;31m---------------------------------------------------------------------------\u001b[0m",
      "\u001b[1;31mNameError\u001b[0m                                 Traceback (most recent call last)",
      "Cell \u001b[1;32mIn[93], line 1\u001b[0m\n\u001b[1;32m----> 1\u001b[0m \u001b[43miris_df\u001b[49m\n",
      "\u001b[1;31mNameError\u001b[0m: name 'iris_df' is not defined"
     ]
    }
   ],
   "source": [
    "iris_df"
   ]
  }
 ],
 "metadata": {
  "kernelspec": {
   "display_name": "Python 3 (ipykernel)",
   "language": "python",
   "name": "python3"
  },
  "language_info": {
   "codemirror_mode": {
    "name": "ipython",
    "version": 3
   },
   "file_extension": ".py",
   "mimetype": "text/x-python",
   "name": "python",
   "nbconvert_exporter": "python",
   "pygments_lexer": "ipython3",
   "version": "3.10.10"
  }
 },
 "nbformat": 4,
 "nbformat_minor": 5
}
